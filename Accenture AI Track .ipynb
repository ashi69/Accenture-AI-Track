{
 "cells": [
  {
   "cell_type": "code",
   "execution_count": 446,
   "metadata": {},
   "outputs": [],
   "source": [
    "import pandas as pd\n"
   ]
  },
  {
   "cell_type": "code",
   "execution_count": 447,
   "metadata": {},
   "outputs": [],
   "source": [
    "import numpy as np\n"
   ]
  },
  {
   "cell_type": "code",
   "execution_count": 448,
   "metadata": {},
   "outputs": [],
   "source": [
    "train = pd.read_csv(r\"C:\\Users\\Admin\\Desktop\\Accenture\\dataset\\train.csv\")\n",
    "test = pd.read_csv(r\"C:\\Users\\Admin\\Desktop\\Accenture\\dataset\\test.csv\")\n"
   ]
  },
  {
   "cell_type": "code",
   "execution_count": 449,
   "metadata": {},
   "outputs": [
    {
     "data": {
      "text/html": [
       "<div>\n",
       "<style scoped>\n",
       "    .dataframe tbody tr th:only-of-type {\n",
       "        vertical-align: middle;\n",
       "    }\n",
       "\n",
       "    .dataframe tbody tr th {\n",
       "        vertical-align: top;\n",
       "    }\n",
       "\n",
       "    .dataframe thead th {\n",
       "        text-align: right;\n",
       "    }\n",
       "</style>\n",
       "<table border=\"1\" class=\"dataframe\">\n",
       "  <thead>\n",
       "    <tr style=\"text-align: right;\">\n",
       "      <th></th>\n",
       "      <th>UID</th>\n",
       "      <th>comment</th>\n",
       "      <th>date</th>\n",
       "      <th>parent_comment</th>\n",
       "      <th>score</th>\n",
       "    </tr>\n",
       "  </thead>\n",
       "  <tbody>\n",
       "    <tr>\n",
       "      <th>0</th>\n",
       "      <td>Tr-1</td>\n",
       "      <td>NC and NH.</td>\n",
       "      <td>2016-10</td>\n",
       "      <td>Yeah, I get that argument. At this point, I'd ...</td>\n",
       "      <td>2</td>\n",
       "    </tr>\n",
       "    <tr>\n",
       "      <th>1</th>\n",
       "      <td>Tr-2</td>\n",
       "      <td>You do know west teams play against west teams...</td>\n",
       "      <td>2016-11</td>\n",
       "      <td>The blazers and Mavericks (The wests 5 and 6 s...</td>\n",
       "      <td>-4</td>\n",
       "    </tr>\n",
       "    <tr>\n",
       "      <th>2</th>\n",
       "      <td>Tr-3</td>\n",
       "      <td>They were underdogs earlier today, but since G...</td>\n",
       "      <td>2016-09</td>\n",
       "      <td>They're favored to win.</td>\n",
       "      <td>3</td>\n",
       "    </tr>\n",
       "    <tr>\n",
       "      <th>3</th>\n",
       "      <td>Tr-4</td>\n",
       "      <td>This meme isn't funny none of the \"new york ni...</td>\n",
       "      <td>2016-10</td>\n",
       "      <td>deadass don't kill my buzz</td>\n",
       "      <td>-8</td>\n",
       "    </tr>\n",
       "    <tr>\n",
       "      <th>4</th>\n",
       "      <td>Tr-5</td>\n",
       "      <td>I could use one of those tools.</td>\n",
       "      <td>2016-12</td>\n",
       "      <td>Yep can confirm I saw the tool they use for th...</td>\n",
       "      <td>6</td>\n",
       "    </tr>\n",
       "  </tbody>\n",
       "</table>\n",
       "</div>"
      ],
      "text/plain": [
       "    UID                                            comment     date  \\\n",
       "0  Tr-1                                         NC and NH.  2016-10   \n",
       "1  Tr-2  You do know west teams play against west teams...  2016-11   \n",
       "2  Tr-3  They were underdogs earlier today, but since G...  2016-09   \n",
       "3  Tr-4  This meme isn't funny none of the \"new york ni...  2016-10   \n",
       "4  Tr-5                    I could use one of those tools.  2016-12   \n",
       "\n",
       "                                      parent_comment  score  \n",
       "0  Yeah, I get that argument. At this point, I'd ...      2  \n",
       "1  The blazers and Mavericks (The wests 5 and 6 s...     -4  \n",
       "2                            They're favored to win.      3  \n",
       "3                         deadass don't kill my buzz     -8  \n",
       "4  Yep can confirm I saw the tool they use for th...      6  "
      ]
     },
     "execution_count": 449,
     "metadata": {},
     "output_type": "execute_result"
    }
   ],
   "source": [
    "train.head()"
   ]
  },
  {
   "cell_type": "code",
   "execution_count": null,
   "metadata": {},
   "outputs": [],
   "source": []
  },
  {
   "cell_type": "code",
   "execution_count": 450,
   "metadata": {},
   "outputs": [],
   "source": [
    "train['month']=train['date'].apply(lambda x:x[-2:])"
   ]
  },
  {
   "cell_type": "code",
   "execution_count": 451,
   "metadata": {},
   "outputs": [],
   "source": [
    "test['month']=test['date'].apply(lambda x:x[-2:])"
   ]
  },
  {
   "cell_type": "code",
   "execution_count": 452,
   "metadata": {},
   "outputs": [],
   "source": [
    "df=train"
   ]
  },
  {
   "cell_type": "code",
   "execution_count": 453,
   "metadata": {},
   "outputs": [],
   "source": [
    "df_1=test"
   ]
  },
  {
   "cell_type": "code",
   "execution_count": 454,
   "metadata": {},
   "outputs": [
    {
     "data": {
      "text/html": [
       "<div>\n",
       "<style scoped>\n",
       "    .dataframe tbody tr th:only-of-type {\n",
       "        vertical-align: middle;\n",
       "    }\n",
       "\n",
       "    .dataframe tbody tr th {\n",
       "        vertical-align: top;\n",
       "    }\n",
       "\n",
       "    .dataframe thead th {\n",
       "        text-align: right;\n",
       "    }\n",
       "</style>\n",
       "<table border=\"1\" class=\"dataframe\">\n",
       "  <thead>\n",
       "    <tr style=\"text-align: right;\">\n",
       "      <th></th>\n",
       "      <th>UID</th>\n",
       "      <th>comment</th>\n",
       "      <th>date</th>\n",
       "      <th>parent_comment</th>\n",
       "      <th>month</th>\n",
       "    </tr>\n",
       "  </thead>\n",
       "  <tbody>\n",
       "    <tr>\n",
       "      <th>0</th>\n",
       "      <td>Te-1</td>\n",
       "      <td>Brb, gonna farm my homu</td>\n",
       "      <td>2016-10</td>\n",
       "      <td>So now I KNOW I've sold my soul to the Devil...</td>\n",
       "      <td>10</td>\n",
       "    </tr>\n",
       "    <tr>\n",
       "      <th>1</th>\n",
       "      <td>Te-2</td>\n",
       "      <td>TIL Russia is in Europe</td>\n",
       "      <td>2016-10</td>\n",
       "      <td>The entire CONTINENT of Europe? But arent they...</td>\n",
       "      <td>10</td>\n",
       "    </tr>\n",
       "    <tr>\n",
       "      <th>2</th>\n",
       "      <td>Te-3</td>\n",
       "      <td>Glad they filmed this with an 8mm.</td>\n",
       "      <td>2016-10</td>\n",
       "      <td>Girl drinks whole beer without using her hands</td>\n",
       "      <td>10</td>\n",
       "    </tr>\n",
       "    <tr>\n",
       "      <th>3</th>\n",
       "      <td>Te-4</td>\n",
       "      <td>But what about that cinematic feel?</td>\n",
       "      <td>2016-10</td>\n",
       "      <td>MRW someone defends 24 FPS over 60</td>\n",
       "      <td>10</td>\n",
       "    </tr>\n",
       "    <tr>\n",
       "      <th>4</th>\n",
       "      <td>Te-5</td>\n",
       "      <td>32 spots left as of today.</td>\n",
       "      <td>2016-10</td>\n",
       "      <td>Are there still spots open for this?</td>\n",
       "      <td>10</td>\n",
       "    </tr>\n",
       "  </tbody>\n",
       "</table>\n",
       "</div>"
      ],
      "text/plain": [
       "    UID                              comment     date  \\\n",
       "0  Te-1              Brb, gonna farm my homu  2016-10   \n",
       "1  Te-2              TIL Russia is in Europe  2016-10   \n",
       "2  Te-3   Glad they filmed this with an 8mm.  2016-10   \n",
       "3  Te-4  But what about that cinematic feel?  2016-10   \n",
       "4  Te-5           32 spots left as of today.  2016-10   \n",
       "\n",
       "                                      parent_comment month  \n",
       "0    So now I KNOW I've sold my soul to the Devil...    10  \n",
       "1  The entire CONTINENT of Europe? But arent they...    10  \n",
       "2     Girl drinks whole beer without using her hands    10  \n",
       "3                 MRW someone defends 24 FPS over 60    10  \n",
       "4               Are there still spots open for this?    10  "
      ]
     },
     "execution_count": 454,
     "metadata": {},
     "output_type": "execute_result"
    }
   ],
   "source": [
    "df_1.head()"
   ]
  },
  {
   "cell_type": "code",
   "execution_count": 455,
   "metadata": {},
   "outputs": [],
   "source": [
    "df['comment']=df['comment'].apply(lambda x: \" \".join(x.lower() for x in x.split()))\n"
   ]
  },
  {
   "cell_type": "code",
   "execution_count": 456,
   "metadata": {},
   "outputs": [
    {
     "data": {
      "text/plain": [
       "UID               0\n",
       "comment           2\n",
       "date              0\n",
       "parent_comment    0\n",
       "month             0\n",
       "dtype: int64"
      ]
     },
     "execution_count": 456,
     "metadata": {},
     "output_type": "execute_result"
    }
   ],
   "source": [
    "df_1.isnull().sum()"
   ]
  },
  {
   "cell_type": "code",
   "execution_count": 457,
   "metadata": {},
   "outputs": [],
   "source": [
    "df_1['comment']=df_1['comment'].fillna(\"NA\")"
   ]
  },
  {
   "cell_type": "code",
   "execution_count": 458,
   "metadata": {},
   "outputs": [],
   "source": [
    "df_1['comment']=df_1['comment'].apply(lambda x: \" \".join(x.lower() for x in x.split()))\n"
   ]
  },
  {
   "cell_type": "code",
   "execution_count": 459,
   "metadata": {},
   "outputs": [],
   "source": [
    "df['parent_comment']=df['parent_comment'].apply(lambda x: \" \".join(x.lower() for x in x.split()))\n",
    "df_1['parent_comment']=df_1['parent_comment'].apply(lambda x: \" \".join(x.lower() for x in x.split()))\n"
   ]
  },
  {
   "cell_type": "code",
   "execution_count": 460,
   "metadata": {},
   "outputs": [],
   "source": [
    "df['comment']=df['comment'].str.replace('<[^<]+?>', '')\n",
    "df['parent_comment']=df['parent_comment'].str.replace('<[^<]+?>', '')\n",
    "df_1['comment']=df_1['comment'].str.replace('<[^<]+?>', '')\n",
    "df_1['parent_comment']=df_1['parent_comment'].str.replace('<[^<]+?>', '')\n"
   ]
  },
  {
   "cell_type": "code",
   "execution_count": 461,
   "metadata": {},
   "outputs": [],
   "source": [
    "df['comment']=df['comment'].str.replace('[^\\w\\s]',' ')\n",
    "df['parent_comment']=df['parent_comment'].str.replace('[^\\w\\s]',' ')\n",
    "df_1['comment']=df_1['comment'].str.replace('[^\\w\\s]',' ')\n",
    "df_1['parent_comment']=df_1['parent_comment'].str.replace('[^\\w\\s]',' ')\n"
   ]
  },
  {
   "cell_type": "code",
   "execution_count": 462,
   "metadata": {},
   "outputs": [],
   "source": [
    "df['comment']=df['comment'].str.replace('\\d+', '')\n",
    "df['parent_comment']=df['parent_comment'].str.replace('\\d+', '')\n",
    "df_1['comment']=df_1['comment'].str.replace('\\d+', '')\n",
    "df_1['parent_comment']=df_1['parent_comment'].str.replace('\\d+', '')\n"
   ]
  },
  {
   "cell_type": "code",
   "execution_count": 463,
   "metadata": {},
   "outputs": [
    {
     "data": {
      "text/html": [
       "<div>\n",
       "<style scoped>\n",
       "    .dataframe tbody tr th:only-of-type {\n",
       "        vertical-align: middle;\n",
       "    }\n",
       "\n",
       "    .dataframe tbody tr th {\n",
       "        vertical-align: top;\n",
       "    }\n",
       "\n",
       "    .dataframe thead th {\n",
       "        text-align: right;\n",
       "    }\n",
       "</style>\n",
       "<table border=\"1\" class=\"dataframe\">\n",
       "  <thead>\n",
       "    <tr style=\"text-align: right;\">\n",
       "      <th></th>\n",
       "      <th>UID</th>\n",
       "      <th>comment</th>\n",
       "      <th>date</th>\n",
       "      <th>parent_comment</th>\n",
       "      <th>score</th>\n",
       "      <th>month</th>\n",
       "    </tr>\n",
       "  </thead>\n",
       "  <tbody>\n",
       "    <tr>\n",
       "      <th>0</th>\n",
       "      <td>Tr-1</td>\n",
       "      <td>nc and nh</td>\n",
       "      <td>2016-10</td>\n",
       "      <td>yeah  i get that argument  at this point  i d ...</td>\n",
       "      <td>2</td>\n",
       "      <td>10</td>\n",
       "    </tr>\n",
       "    <tr>\n",
       "      <th>1</th>\n",
       "      <td>Tr-2</td>\n",
       "      <td>you do know west teams play against west teams...</td>\n",
       "      <td>2016-11</td>\n",
       "      <td>the blazers and mavericks  the wests  and  see...</td>\n",
       "      <td>-4</td>\n",
       "      <td>11</td>\n",
       "    </tr>\n",
       "    <tr>\n",
       "      <th>2</th>\n",
       "      <td>Tr-3</td>\n",
       "      <td>they were underdogs earlier today  but since g...</td>\n",
       "      <td>2016-09</td>\n",
       "      <td>they re favored to win</td>\n",
       "      <td>3</td>\n",
       "      <td>09</td>\n",
       "    </tr>\n",
       "    <tr>\n",
       "      <th>3</th>\n",
       "      <td>Tr-4</td>\n",
       "      <td>this meme isn t funny none of the  new york ni...</td>\n",
       "      <td>2016-10</td>\n",
       "      <td>deadass don t kill my buzz</td>\n",
       "      <td>-8</td>\n",
       "      <td>10</td>\n",
       "    </tr>\n",
       "    <tr>\n",
       "      <th>4</th>\n",
       "      <td>Tr-5</td>\n",
       "      <td>i could use one of those tools</td>\n",
       "      <td>2016-12</td>\n",
       "      <td>yep can confirm i saw the tool they use for th...</td>\n",
       "      <td>6</td>\n",
       "      <td>12</td>\n",
       "    </tr>\n",
       "  </tbody>\n",
       "</table>\n",
       "</div>"
      ],
      "text/plain": [
       "    UID                                            comment     date  \\\n",
       "0  Tr-1                                         nc and nh   2016-10   \n",
       "1  Tr-2  you do know west teams play against west teams...  2016-11   \n",
       "2  Tr-3  they were underdogs earlier today  but since g...  2016-09   \n",
       "3  Tr-4  this meme isn t funny none of the  new york ni...  2016-10   \n",
       "4  Tr-5                    i could use one of those tools   2016-12   \n",
       "\n",
       "                                      parent_comment  score month  \n",
       "0  yeah  i get that argument  at this point  i d ...      2    10  \n",
       "1  the blazers and mavericks  the wests  and  see...     -4    11  \n",
       "2                            they re favored to win       3    09  \n",
       "3                         deadass don t kill my buzz     -8    10  \n",
       "4  yep can confirm i saw the tool they use for th...      6    12  "
      ]
     },
     "execution_count": 463,
     "metadata": {},
     "output_type": "execute_result"
    }
   ],
   "source": [
    "df.head()"
   ]
  },
  {
   "cell_type": "code",
   "execution_count": null,
   "metadata": {},
   "outputs": [],
   "source": []
  },
  {
   "cell_type": "code",
   "execution_count": 464,
   "metadata": {},
   "outputs": [],
   "source": [
    "df['count_comment'] = df['comment'].str.split().str.len()\n",
    "df['count_parent_comment'] = df['parent_comment'].str.split().str.len()\n",
    "\n",
    "\n",
    "df_1['count_comment'] = df_1['comment'].str.split().str.len()\n",
    "df_1['count_parent_comment'] = df_1['parent_comment'].str.split().str.len()\n"
   ]
  },
  {
   "cell_type": "code",
   "execution_count": 465,
   "metadata": {},
   "outputs": [],
   "source": [
    "from nltk.corpus import stopwords\n",
    "stop = stopwords.words('english')"
   ]
  },
  {
   "cell_type": "code",
   "execution_count": null,
   "metadata": {},
   "outputs": [],
   "source": []
  },
  {
   "cell_type": "markdown",
   "metadata": {},
   "source": []
  },
  {
   "cell_type": "code",
   "execution_count": 466,
   "metadata": {},
   "outputs": [],
   "source": [
    "df['count_comment_after_stop'] = df['comment'].str.split().str.len()\n",
    "df['count_parent_comment_after_stop'] = df['parent_comment'].str.split().str.len()\n",
    "df['count_comment_after_stop'] = df['comment'].str.split().str.len()\n",
    "df['count_parent_comment_after_stop'] = df['parent_comment'].str.split().str.len()\n",
    "\n",
    "df_1['count_comment_after_stop'] = df_1['comment'].str.split().str.len()\n",
    "df_1['count_parent_comment_after_stop'] = df_1['parent_comment'].str.split().str.len()\n",
    "df_1['count_comment_after_stop'] = df_1['comment'].str.split().str.len()\n",
    "df_1['count_parent_comment_after_stop'] = df_1['parent_comment'].str.split().str.len()\n",
    "\n",
    "\n",
    "\n"
   ]
  },
  {
   "cell_type": "code",
   "execution_count": 467,
   "metadata": {},
   "outputs": [],
   "source": [
    "freq_comment = pd.Series(' '.join(df['comment']).split()).value_counts()[:10]\n",
    "freq_parent_comment = pd.Series(' '.join(df['parent_comment']).split()).value_counts()[:10]\n",
    "\n",
    "freq_comment_1 = pd.Series(' '.join(df_1['comment']).split()).value_counts()[:10]\n",
    "freq_parent_comment_1 = pd.Series(' '.join(df_1['parent_comment']).split()).value_counts()[:10]\n"
   ]
  },
  {
   "cell_type": "code",
   "execution_count": 468,
   "metadata": {},
   "outputs": [],
   "source": [
    "freq_comment = list(freq_comment.index)\n",
    "df['comment'] =df['comment'].apply(lambda x: \" \".join(x for x in x.split() if x not in freq_comment))\n",
    "\n",
    "freq_comment_1 = list(freq_comment_1.index)\n",
    "df_1['comment'] =df_1['comment'].apply(lambda x: \" \".join(x for x in x.split() if x not in freq_comment_1))\n"
   ]
  },
  {
   "cell_type": "code",
   "execution_count": 469,
   "metadata": {},
   "outputs": [],
   "source": [
    "freq_parent_comment = list(freq_parent_comment.index)\n",
    "df['parent_comment'] =df['parent_comment'].apply(lambda x: \" \".join(x for x in x.split() if x not in freq_parent_comment))\n",
    "\n",
    "\n",
    "freq_parent_comment_1 = list(freq_parent_comment_1.index)\n",
    "df_1['parent_comment'] =df_1['parent_comment'].apply(lambda x: \" \".join(x for x in x.split() if x not in freq_parent_comment_1))\n"
   ]
  },
  {
   "cell_type": "code",
   "execution_count": 470,
   "metadata": {},
   "outputs": [
    {
     "data": {
      "text/plain": [
       "0                    so now know ve sold my soul devil\n",
       "1    entire continent europe but agent they from ru...\n",
       "2       girl drinks whole beer without using her hands\n",
       "3                          mr someone depends fas over\n",
       "4                  are there still spots open for this\n",
       "Name: parent_comment, dtype: object"
      ]
     },
     "execution_count": 470,
     "metadata": {},
     "output_type": "execute_result"
    }
   ],
   "source": [
    "from textblob import TextBlob\n",
    "df['comment'][:5].apply(lambda x: str(TextBlob(x).correct()))\n",
    "df['parent_comment'][:5].apply(lambda x: str(TextBlob(x).correct()))\n",
    "\n",
    "df_1['comment'][:5].apply(lambda x: str(TextBlob(x).correct()))\n",
    "df_1['parent_comment'][:5].apply(lambda x: str(TextBlob(x).correct()))"
   ]
  },
  {
   "cell_type": "code",
   "execution_count": 471,
   "metadata": {},
   "outputs": [
    {
     "data": {
      "text/plain": [
       "0                                   brb gonna farm my homu\n",
       "1                                      til russia in europ\n",
       "2                            glad they film thi with an mm\n",
       "3                              but what about cinemat feel\n",
       "4                                    spot left as of today\n",
       "5                more like white flag becaus they appropri\n",
       "6                                        but too much work\n",
       "7                                  will have look into thi\n",
       "8        so clearli system environment degrad of coral ...\n",
       "9                            ve ruin perfectli fine pictur\n",
       "10                                                no never\n",
       "11                                               metta era\n",
       "12       love how he smoothli stroke those dong opposit...\n",
       "13       gotta make sure u kno who alpha here so next t...\n",
       "14       what if kd intern sabotag warrior on our behal...\n",
       "15              last episod of bate motel though creepi af\n",
       "16                                            r thathappen\n",
       "17                                         like but physic\n",
       "18                           but thi citi so should expect\n",
       "19       nik need go fuck away we took chanc on him he ...\n",
       "20                                            que surpresa\n",
       "21        d halo he threw lot of grenad right befor he die\n",
       "22                               shame she not more orgasm\n",
       "23                                                   shade\n",
       "24                 noth they will keep him same sinc he op\n",
       "25       well donald trump if had bigger hand wouldn t ...\n",
       "26                   actual window gui element cuck faggot\n",
       "27        not see whole lot of chipotl gang member in here\n",
       "28                  basic sandwich bread slice extra thick\n",
       "29       just log in with multipl bot account downvot s...\n",
       "                               ...                        \n",
       "29970                           idk mayb breitbart infowar\n",
       "29971                                            r bee_irl\n",
       "29972                            liter unplay fuck ubisoft\n",
       "29973    m curiou if anyon els thi way but doe anyon fe...\n",
       "29974    yeah peopl went saw him in becaus he wa in sho...\n",
       "29975                 he tweet without fact tweeterinchief\n",
       "29976                                             run hill\n",
       "29977                             holi shit guy castro did\n",
       "29978                                  exercis for degener\n",
       "29979                                                 word\n",
       "29980                                meesa call darth bink\n",
       "29981                           pleas share jog badg km pl\n",
       "29982    what if win team onli got shot on goal score i...\n",
       "29983                            m toxic nobodi will notic\n",
       "29984    may as well write on one of your own my man co...\n",
       "29985                                         panic wrestl\n",
       "29986              believ see right befor batman intro too\n",
       "29987    realli impress can have sub dedic mock stupid ...\n",
       "29988      my legaci gt will be with me while longer guess\n",
       "29989                          basic still won t buy happi\n",
       "29990                                             drop thi\n",
       "29991                                                     \n",
       "29992                                           no not yet\n",
       "29993       friendhip with hugo over anthoni my friend now\n",
       "29994                build load of softwar onli know about\n",
       "29995    person don t consid masturb in park as sexual ...\n",
       "29996                poll are liter rape jewish conspiraci\n",
       "29997                                               canada\n",
       "29998    ye have significantli more them half of voter ...\n",
       "29999                                     have sex with me\n",
       "Name: comment, Length: 30000, dtype: object"
      ]
     },
     "execution_count": 471,
     "metadata": {},
     "output_type": "execute_result"
    }
   ],
   "source": [
    "from nltk.stem import PorterStemmer\n",
    "st = PorterStemmer()\n",
    "df['parent_comment'].apply(lambda x: \" \".join([st.stem(word) for word in x.split()]))\n",
    "df['comment'].apply(lambda x: \" \".join([st.stem(word) for word in x.split()]))\n",
    "\n",
    "df_1['parent_comment'].apply(lambda x: \" \".join([st.stem(word) for word in x.split()]))\n",
    "df_1['comment'].apply(lambda x: \" \".join([st.stem(word) for word in x.split()]))"
   ]
  },
  {
   "cell_type": "code",
   "execution_count": 472,
   "metadata": {},
   "outputs": [],
   "source": [
    "from textblob import Word\n",
    "df['parent_comment'] =df['parent_comment'].apply(lambda x: \" \".join([Word(word).lemmatize() for word in x.split()]))\n",
    "df['comment'] =df['comment'].apply(lambda x: \" \".join([Word(word).lemmatize() for word in x.split()]))\n",
    "\n",
    "df_1['parent_comment'] =df_1['parent_comment'].apply(lambda x: \" \".join([Word(word).lemmatize() for word in x.split()]))\n",
    "df_1['comment'] =df_1['comment'].apply(lambda x: \" \".join([Word(word).lemmatize() for word in x.split()]))\n"
   ]
  },
  {
   "cell_type": "code",
   "execution_count": 473,
   "metadata": {},
   "outputs": [
    {
     "data": {
      "text/html": [
       "<div>\n",
       "<style scoped>\n",
       "    .dataframe tbody tr th:only-of-type {\n",
       "        vertical-align: middle;\n",
       "    }\n",
       "\n",
       "    .dataframe tbody tr th {\n",
       "        vertical-align: top;\n",
       "    }\n",
       "\n",
       "    .dataframe thead th {\n",
       "        text-align: right;\n",
       "    }\n",
       "</style>\n",
       "<table border=\"1\" class=\"dataframe\">\n",
       "  <thead>\n",
       "    <tr style=\"text-align: right;\">\n",
       "      <th></th>\n",
       "      <th>UID</th>\n",
       "      <th>comment</th>\n",
       "      <th>date</th>\n",
       "      <th>parent_comment</th>\n",
       "      <th>score</th>\n",
       "      <th>month</th>\n",
       "      <th>count_comment</th>\n",
       "      <th>count_parent_comment</th>\n",
       "      <th>count_comment_after_stop</th>\n",
       "      <th>count_parent_comment_after_stop</th>\n",
       "    </tr>\n",
       "  </thead>\n",
       "  <tbody>\n",
       "    <tr>\n",
       "      <th>0</th>\n",
       "      <td>Tr-1</td>\n",
       "      <td>nc nh</td>\n",
       "      <td>2016-10</td>\n",
       "      <td>yeah get argument at this point d prefer she l...</td>\n",
       "      <td>2</td>\n",
       "      <td>10</td>\n",
       "      <td>3</td>\n",
       "      <td>18</td>\n",
       "      <td>3</td>\n",
       "      <td>18</td>\n",
       "    </tr>\n",
       "    <tr>\n",
       "      <th>1</th>\n",
       "      <td>Tr-2</td>\n",
       "      <td>do know west team play against west team more ...</td>\n",
       "      <td>2016-11</td>\n",
       "      <td>blazer maverick west seed did not even carry g...</td>\n",
       "      <td>-4</td>\n",
       "      <td>11</td>\n",
       "      <td>14</td>\n",
       "      <td>25</td>\n",
       "      <td>14</td>\n",
       "      <td>25</td>\n",
       "    </tr>\n",
       "    <tr>\n",
       "      <th>2</th>\n",
       "      <td>Tr-3</td>\n",
       "      <td>they were underdog earlier today but since gro...</td>\n",
       "      <td>2016-09</td>\n",
       "      <td>they re favored win</td>\n",
       "      <td>3</td>\n",
       "      <td>09</td>\n",
       "      <td>19</td>\n",
       "      <td>5</td>\n",
       "      <td>19</td>\n",
       "      <td>5</td>\n",
       "    </tr>\n",
       "    <tr>\n",
       "      <th>3</th>\n",
       "      <td>Tr-4</td>\n",
       "      <td>this meme isn t funny none new york nigga one are</td>\n",
       "      <td>2016-10</td>\n",
       "      <td>deadass don t kill my buzz</td>\n",
       "      <td>-8</td>\n",
       "      <td>10</td>\n",
       "      <td>13</td>\n",
       "      <td>6</td>\n",
       "      <td>13</td>\n",
       "      <td>6</td>\n",
       "    </tr>\n",
       "    <tr>\n",
       "      <th>4</th>\n",
       "      <td>Tr-5</td>\n",
       "      <td>could use one those tool</td>\n",
       "      <td>2016-12</td>\n",
       "      <td>yep can confirm saw tool they use for wa made ...</td>\n",
       "      <td>6</td>\n",
       "      <td>12</td>\n",
       "      <td>7</td>\n",
       "      <td>18</td>\n",
       "      <td>7</td>\n",
       "      <td>18</td>\n",
       "    </tr>\n",
       "  </tbody>\n",
       "</table>\n",
       "</div>"
      ],
      "text/plain": [
       "    UID                                            comment     date  \\\n",
       "0  Tr-1                                              nc nh  2016-10   \n",
       "1  Tr-2  do know west team play against west team more ...  2016-11   \n",
       "2  Tr-3  they were underdog earlier today but since gro...  2016-09   \n",
       "3  Tr-4  this meme isn t funny none new york nigga one are  2016-10   \n",
       "4  Tr-5                           could use one those tool  2016-12   \n",
       "\n",
       "                                      parent_comment  score month  \\\n",
       "0  yeah get argument at this point d prefer she l...      2    10   \n",
       "1  blazer maverick west seed did not even carry g...     -4    11   \n",
       "2                                they re favored win      3    09   \n",
       "3                         deadass don t kill my buzz     -8    10   \n",
       "4  yep can confirm saw tool they use for wa made ...      6    12   \n",
       "\n",
       "   count_comment  count_parent_comment  count_comment_after_stop  \\\n",
       "0              3                    18                         3   \n",
       "1             14                    25                        14   \n",
       "2             19                     5                        19   \n",
       "3             13                     6                        13   \n",
       "4              7                    18                         7   \n",
       "\n",
       "   count_parent_comment_after_stop  \n",
       "0                               18  \n",
       "1                               25  \n",
       "2                                5  \n",
       "3                                6  \n",
       "4                               18  "
      ]
     },
     "execution_count": 473,
     "metadata": {},
     "output_type": "execute_result"
    }
   ],
   "source": [
    "df.head()"
   ]
  },
  {
   "cell_type": "code",
   "execution_count": 474,
   "metadata": {},
   "outputs": [
    {
     "data": {
      "text/html": [
       "<div>\n",
       "<style scoped>\n",
       "    .dataframe tbody tr th:only-of-type {\n",
       "        vertical-align: middle;\n",
       "    }\n",
       "\n",
       "    .dataframe tbody tr th {\n",
       "        vertical-align: top;\n",
       "    }\n",
       "\n",
       "    .dataframe thead th {\n",
       "        text-align: right;\n",
       "    }\n",
       "</style>\n",
       "<table border=\"1\" class=\"dataframe\">\n",
       "  <thead>\n",
       "    <tr style=\"text-align: right;\">\n",
       "      <th></th>\n",
       "      <th>UID</th>\n",
       "      <th>comment</th>\n",
       "      <th>date</th>\n",
       "      <th>parent_comment</th>\n",
       "      <th>month</th>\n",
       "      <th>count_comment</th>\n",
       "      <th>count_parent_comment</th>\n",
       "      <th>count_comment_after_stop</th>\n",
       "      <th>count_parent_comment_after_stop</th>\n",
       "    </tr>\n",
       "  </thead>\n",
       "  <tbody>\n",
       "    <tr>\n",
       "      <th>0</th>\n",
       "      <td>Te-1</td>\n",
       "      <td>brb gonna farm my homu</td>\n",
       "      <td>2016-10</td>\n",
       "      <td>so now know ve sold my soul devil</td>\n",
       "      <td>10</td>\n",
       "      <td>5</td>\n",
       "      <td>12</td>\n",
       "      <td>5</td>\n",
       "      <td>12</td>\n",
       "    </tr>\n",
       "    <tr>\n",
       "      <th>1</th>\n",
       "      <td>Te-2</td>\n",
       "      <td>til russia in europe</td>\n",
       "      <td>2016-10</td>\n",
       "      <td>entire continent europe but arent they from ru...</td>\n",
       "      <td>10</td>\n",
       "      <td>5</td>\n",
       "      <td>10</td>\n",
       "      <td>5</td>\n",
       "      <td>10</td>\n",
       "    </tr>\n",
       "    <tr>\n",
       "      <th>2</th>\n",
       "      <td>Te-3</td>\n",
       "      <td>glad they filmed this with an mm</td>\n",
       "      <td>2016-10</td>\n",
       "      <td>girl drink whole beer without using her hand</td>\n",
       "      <td>10</td>\n",
       "      <td>7</td>\n",
       "      <td>8</td>\n",
       "      <td>7</td>\n",
       "      <td>8</td>\n",
       "    </tr>\n",
       "    <tr>\n",
       "      <th>3</th>\n",
       "      <td>Te-4</td>\n",
       "      <td>but what about cinematic feel</td>\n",
       "      <td>2016-10</td>\n",
       "      <td>mrw someone defends fps over</td>\n",
       "      <td>10</td>\n",
       "      <td>6</td>\n",
       "      <td>5</td>\n",
       "      <td>6</td>\n",
       "      <td>5</td>\n",
       "    </tr>\n",
       "    <tr>\n",
       "      <th>4</th>\n",
       "      <td>Te-5</td>\n",
       "      <td>spot left a of today</td>\n",
       "      <td>2016-10</td>\n",
       "      <td>are there still spot open for this</td>\n",
       "      <td>10</td>\n",
       "      <td>5</td>\n",
       "      <td>7</td>\n",
       "      <td>5</td>\n",
       "      <td>7</td>\n",
       "    </tr>\n",
       "  </tbody>\n",
       "</table>\n",
       "</div>"
      ],
      "text/plain": [
       "    UID                           comment     date  \\\n",
       "0  Te-1            brb gonna farm my homu  2016-10   \n",
       "1  Te-2              til russia in europe  2016-10   \n",
       "2  Te-3  glad they filmed this with an mm  2016-10   \n",
       "3  Te-4     but what about cinematic feel  2016-10   \n",
       "4  Te-5              spot left a of today  2016-10   \n",
       "\n",
       "                                      parent_comment month  count_comment  \\\n",
       "0                  so now know ve sold my soul devil    10              5   \n",
       "1  entire continent europe but arent they from ru...    10              5   \n",
       "2       girl drink whole beer without using her hand    10              7   \n",
       "3                       mrw someone defends fps over    10              6   \n",
       "4                 are there still spot open for this    10              5   \n",
       "\n",
       "   count_parent_comment  count_comment_after_stop  \\\n",
       "0                    12                         5   \n",
       "1                    10                         5   \n",
       "2                     8                         7   \n",
       "3                     5                         6   \n",
       "4                     7                         5   \n",
       "\n",
       "   count_parent_comment_after_stop  \n",
       "0                               12  \n",
       "1                               10  \n",
       "2                                8  \n",
       "3                                5  \n",
       "4                                7  "
      ]
     },
     "execution_count": 474,
     "metadata": {},
     "output_type": "execute_result"
    }
   ],
   "source": [
    "df_1.head()"
   ]
  },
  {
   "cell_type": "code",
   "execution_count": 475,
   "metadata": {},
   "outputs": [],
   "source": [
    "df.drop('comment', axis=1, inplace=True)\n",
    "df.drop('parent_comment', axis=1, inplace=True)\n",
    "df.drop('date', axis=1, inplace=True)\n",
    "\n",
    "\n",
    "df_1.drop('comment', axis=1, inplace=True)\n",
    "df_1.drop('parent_comment', axis=1, inplace=True)\n",
    "df_1.drop('date', axis=1, inplace=True)\n"
   ]
  },
  {
   "cell_type": "code",
   "execution_count": 476,
   "metadata": {},
   "outputs": [],
   "source": [
    "df.drop('UID', axis=1, inplace=True)\n"
   ]
  },
  {
   "cell_type": "code",
   "execution_count": 477,
   "metadata": {},
   "outputs": [],
   "source": [
    "idn=df_1['UID']"
   ]
  },
  {
   "cell_type": "code",
   "execution_count": 478,
   "metadata": {},
   "outputs": [],
   "source": [
    "df_1.drop('UID', axis=1, inplace=True)\n"
   ]
  },
  {
   "cell_type": "code",
   "execution_count": 552,
   "metadata": {},
   "outputs": [
    {
     "data": {
      "text/html": [
       "<div>\n",
       "<style scoped>\n",
       "    .dataframe tbody tr th:only-of-type {\n",
       "        vertical-align: middle;\n",
       "    }\n",
       "\n",
       "    .dataframe tbody tr th {\n",
       "        vertical-align: top;\n",
       "    }\n",
       "\n",
       "    .dataframe thead th {\n",
       "        text-align: right;\n",
       "    }\n",
       "</style>\n",
       "<table border=\"1\" class=\"dataframe\">\n",
       "  <thead>\n",
       "    <tr style=\"text-align: right;\">\n",
       "      <th></th>\n",
       "      <th>month</th>\n",
       "      <th>count_comment</th>\n",
       "      <th>count_parent_comment</th>\n",
       "      <th>count_comment_after_stop</th>\n",
       "      <th>count_parent_comment_after_stop</th>\n",
       "      <th>diff</th>\n",
       "    </tr>\n",
       "  </thead>\n",
       "  <tbody>\n",
       "    <tr>\n",
       "      <th>0</th>\n",
       "      <td>10</td>\n",
       "      <td>3</td>\n",
       "      <td>18</td>\n",
       "      <td>3</td>\n",
       "      <td>18</td>\n",
       "      <td>-15</td>\n",
       "    </tr>\n",
       "    <tr>\n",
       "      <th>1</th>\n",
       "      <td>11</td>\n",
       "      <td>14</td>\n",
       "      <td>25</td>\n",
       "      <td>14</td>\n",
       "      <td>25</td>\n",
       "      <td>-11</td>\n",
       "    </tr>\n",
       "    <tr>\n",
       "      <th>2</th>\n",
       "      <td>09</td>\n",
       "      <td>19</td>\n",
       "      <td>5</td>\n",
       "      <td>19</td>\n",
       "      <td>5</td>\n",
       "      <td>14</td>\n",
       "    </tr>\n",
       "    <tr>\n",
       "      <th>3</th>\n",
       "      <td>10</td>\n",
       "      <td>13</td>\n",
       "      <td>6</td>\n",
       "      <td>13</td>\n",
       "      <td>6</td>\n",
       "      <td>7</td>\n",
       "    </tr>\n",
       "    <tr>\n",
       "      <th>4</th>\n",
       "      <td>12</td>\n",
       "      <td>7</td>\n",
       "      <td>18</td>\n",
       "      <td>7</td>\n",
       "      <td>18</td>\n",
       "      <td>-11</td>\n",
       "    </tr>\n",
       "  </tbody>\n",
       "</table>\n",
       "</div>"
      ],
      "text/plain": [
       "  month  count_comment  count_parent_comment  count_comment_after_stop  \\\n",
       "0    10              3                    18                         3   \n",
       "1    11             14                    25                        14   \n",
       "2    09             19                     5                        19   \n",
       "3    10             13                     6                        13   \n",
       "4    12              7                    18                         7   \n",
       "\n",
       "   count_parent_comment_after_stop  diff  \n",
       "0                               18   -15  \n",
       "1                               25   -11  \n",
       "2                                5    14  \n",
       "3                                6     7  \n",
       "4                               18   -11  "
      ]
     },
     "execution_count": 552,
     "metadata": {},
     "output_type": "execute_result"
    }
   ],
   "source": [
    "df.head()"
   ]
  },
  {
   "cell_type": "code",
   "execution_count": 570,
   "metadata": {},
   "outputs": [],
   "source": [
    "df['diff_']=-df['count_comment']+df['count_parent_comment']"
   ]
  },
  {
   "cell_type": "code",
   "execution_count": 571,
   "metadata": {},
   "outputs": [],
   "source": [
    "df_1['diff_']=-df_1['count_comment']+df_1['count_parent_comment']"
   ]
  },
  {
   "cell_type": "code",
   "execution_count": 572,
   "metadata": {},
   "outputs": [
    {
     "data": {
      "text/html": [
       "<div>\n",
       "<style scoped>\n",
       "    .dataframe tbody tr th:only-of-type {\n",
       "        vertical-align: middle;\n",
       "    }\n",
       "\n",
       "    .dataframe tbody tr th {\n",
       "        vertical-align: top;\n",
       "    }\n",
       "\n",
       "    .dataframe thead th {\n",
       "        text-align: right;\n",
       "    }\n",
       "</style>\n",
       "<table border=\"1\" class=\"dataframe\">\n",
       "  <thead>\n",
       "    <tr style=\"text-align: right;\">\n",
       "      <th></th>\n",
       "      <th>month</th>\n",
       "      <th>count_comment</th>\n",
       "      <th>count_parent_comment</th>\n",
       "      <th>count_comment_after_stop</th>\n",
       "      <th>count_parent_comment_after_stop</th>\n",
       "      <th>diff</th>\n",
       "      <th>diff_</th>\n",
       "    </tr>\n",
       "  </thead>\n",
       "  <tbody>\n",
       "    <tr>\n",
       "      <th>0</th>\n",
       "      <td>10</td>\n",
       "      <td>5</td>\n",
       "      <td>12</td>\n",
       "      <td>5</td>\n",
       "      <td>12</td>\n",
       "      <td>-7</td>\n",
       "      <td>7</td>\n",
       "    </tr>\n",
       "    <tr>\n",
       "      <th>1</th>\n",
       "      <td>10</td>\n",
       "      <td>5</td>\n",
       "      <td>10</td>\n",
       "      <td>5</td>\n",
       "      <td>10</td>\n",
       "      <td>-5</td>\n",
       "      <td>5</td>\n",
       "    </tr>\n",
       "    <tr>\n",
       "      <th>2</th>\n",
       "      <td>10</td>\n",
       "      <td>7</td>\n",
       "      <td>8</td>\n",
       "      <td>7</td>\n",
       "      <td>8</td>\n",
       "      <td>-1</td>\n",
       "      <td>1</td>\n",
       "    </tr>\n",
       "    <tr>\n",
       "      <th>3</th>\n",
       "      <td>10</td>\n",
       "      <td>6</td>\n",
       "      <td>5</td>\n",
       "      <td>6</td>\n",
       "      <td>5</td>\n",
       "      <td>1</td>\n",
       "      <td>-1</td>\n",
       "    </tr>\n",
       "    <tr>\n",
       "      <th>4</th>\n",
       "      <td>10</td>\n",
       "      <td>5</td>\n",
       "      <td>7</td>\n",
       "      <td>5</td>\n",
       "      <td>7</td>\n",
       "      <td>-2</td>\n",
       "      <td>2</td>\n",
       "    </tr>\n",
       "  </tbody>\n",
       "</table>\n",
       "</div>"
      ],
      "text/plain": [
       "  month  count_comment  count_parent_comment  count_comment_after_stop  \\\n",
       "0    10              5                    12                         5   \n",
       "1    10              5                    10                         5   \n",
       "2    10              7                     8                         7   \n",
       "3    10              6                     5                         6   \n",
       "4    10              5                     7                         5   \n",
       "\n",
       "   count_parent_comment_after_stop  diff  diff_  \n",
       "0                               12    -7      7  \n",
       "1                               10    -5      5  \n",
       "2                                8    -1      1  \n",
       "3                                5     1     -1  \n",
       "4                                7    -2      2  "
      ]
     },
     "execution_count": 572,
     "metadata": {},
     "output_type": "execute_result"
    }
   ],
   "source": [
    "df_1.head()"
   ]
  },
  {
   "cell_type": "code",
   "execution_count": null,
   "metadata": {},
   "outputs": [],
   "source": []
  },
  {
   "cell_type": "code",
   "execution_count": 481,
   "metadata": {},
   "outputs": [],
   "source": [
    "from sklearn.linear_model import LinearRegression\n"
   ]
  },
  {
   "cell_type": "code",
   "execution_count": null,
   "metadata": {},
   "outputs": [],
   "source": []
  },
  {
   "cell_type": "code",
   "execution_count": null,
   "metadata": {},
   "outputs": [],
   "source": []
  },
  {
   "cell_type": "code",
   "execution_count": 482,
   "metadata": {},
   "outputs": [],
   "source": [
    "from sklearn.linear_model import Lasso\n"
   ]
  },
  {
   "cell_type": "code",
   "execution_count": 483,
   "metadata": {},
   "outputs": [],
   "source": [
    "from sklearn.ensemble import GradientBoostingRegressor\n"
   ]
  },
  {
   "cell_type": "code",
   "execution_count": 484,
   "metadata": {},
   "outputs": [],
   "source": [
    " from sklearn.model_selection import train_test_split"
   ]
  },
  {
   "cell_type": "code",
   "execution_count": 485,
   "metadata": {},
   "outputs": [],
   "source": [
    "y=df['score']"
   ]
  },
  {
   "cell_type": "code",
   "execution_count": 486,
   "metadata": {},
   "outputs": [],
   "source": [
    "df.drop('score', axis=1, inplace=True)\n"
   ]
  },
  {
   "cell_type": "code",
   "execution_count": 573,
   "metadata": {},
   "outputs": [],
   "source": [
    "X_train, X_test, y_train, y_test = train_test_split(df, y, test_size = 0.15)"
   ]
  },
  {
   "cell_type": "code",
   "execution_count": 574,
   "metadata": {},
   "outputs": [],
   "source": [
    "clf = LinearRegression(n_jobs=10)"
   ]
  },
  {
   "cell_type": "code",
   "execution_count": 575,
   "metadata": {},
   "outputs": [
    {
     "data": {
      "text/plain": [
       "LinearRegression(copy_X=True, fit_intercept=True, n_jobs=10, normalize=False)"
      ]
     },
     "execution_count": 575,
     "metadata": {},
     "output_type": "execute_result"
    }
   ],
   "source": [
    "clf.fit(X_train,y_train)"
   ]
  },
  {
   "cell_type": "code",
   "execution_count": 576,
   "metadata": {},
   "outputs": [],
   "source": [
    "from sklearn.metrics import mean_squared_error, r2_score\n"
   ]
  },
  {
   "cell_type": "code",
   "execution_count": 577,
   "metadata": {},
   "outputs": [],
   "source": [
    "y_pred =  clf.predict(X_test)"
   ]
  },
  {
   "cell_type": "code",
   "execution_count": 578,
   "metadata": {},
   "outputs": [],
   "source": [
    "# rmse = mean_squared_error(y, y_predicted)\n"
   ]
  },
  {
   "cell_type": "code",
   "execution_count": 579,
   "metadata": {},
   "outputs": [],
   "source": [
    "# # print('f1 weighted Score on train data: ', f1_score(y_true=y_train, y_pred=clf.predict(X_train),average='weighted'))\n",
    "# print('f1 weighted Score on test data: ', f1_score(y_true=y_test, y_pred=y_pred,average='weighted'))"
   ]
  },
  {
   "cell_type": "code",
   "execution_count": 580,
   "metadata": {},
   "outputs": [],
   "source": [
    "y_pred =  clf.predict(df_1)"
   ]
  },
  {
   "cell_type": "code",
   "execution_count": 581,
   "metadata": {},
   "outputs": [
    {
     "data": {
      "text/plain": [
       "array([7.56976891, 7.59563168, 7.70350676, ..., 8.01216003, 8.56259548,\n",
       "       8.07052159])"
      ]
     },
     "execution_count": 581,
     "metadata": {},
     "output_type": "execute_result"
    }
   ],
   "source": [
    "y_pred"
   ]
  },
  {
   "cell_type": "code",
   "execution_count": 582,
   "metadata": {},
   "outputs": [
    {
     "data": {
      "text/plain": [
       "7.569768912865684"
      ]
     },
     "execution_count": 582,
     "metadata": {},
     "output_type": "execute_result"
    }
   ],
   "source": [
    "y_pred[0]"
   ]
  },
  {
   "cell_type": "code",
   "execution_count": 583,
   "metadata": {},
   "outputs": [],
   "source": [
    "result = pd.DataFrame(y_pred)\n"
   ]
  },
  {
   "cell_type": "code",
   "execution_count": 584,
   "metadata": {},
   "outputs": [],
   "source": [
    "result.columns = ['score']\n",
    "result.name=\"score\""
   ]
  },
  {
   "cell_type": "code",
   "execution_count": 585,
   "metadata": {},
   "outputs": [
    {
     "data": {
      "text/html": [
       "<div>\n",
       "<style scoped>\n",
       "    .dataframe tbody tr th:only-of-type {\n",
       "        vertical-align: middle;\n",
       "    }\n",
       "\n",
       "    .dataframe tbody tr th {\n",
       "        vertical-align: top;\n",
       "    }\n",
       "\n",
       "    .dataframe thead th {\n",
       "        text-align: right;\n",
       "    }\n",
       "</style>\n",
       "<table border=\"1\" class=\"dataframe\">\n",
       "  <thead>\n",
       "    <tr style=\"text-align: right;\">\n",
       "      <th></th>\n",
       "      <th>score</th>\n",
       "    </tr>\n",
       "  </thead>\n",
       "  <tbody>\n",
       "    <tr>\n",
       "      <th>0</th>\n",
       "      <td>7.569769</td>\n",
       "    </tr>\n",
       "    <tr>\n",
       "      <th>1</th>\n",
       "      <td>7.595632</td>\n",
       "    </tr>\n",
       "    <tr>\n",
       "      <th>2</th>\n",
       "      <td>7.703507</td>\n",
       "    </tr>\n",
       "    <tr>\n",
       "      <th>3</th>\n",
       "      <td>7.701295</td>\n",
       "    </tr>\n",
       "    <tr>\n",
       "      <th>4</th>\n",
       "      <td>7.634426</td>\n",
       "    </tr>\n",
       "  </tbody>\n",
       "</table>\n",
       "</div>"
      ],
      "text/plain": [
       "      score\n",
       "0  7.569769\n",
       "1  7.595632\n",
       "2  7.703507\n",
       "3  7.701295\n",
       "4  7.634426"
      ]
     },
     "execution_count": 585,
     "metadata": {},
     "output_type": "execute_result"
    }
   ],
   "source": [
    "result.head()"
   ]
  },
  {
   "cell_type": "code",
   "execution_count": 586,
   "metadata": {},
   "outputs": [],
   "source": [
    "sub = pd.concat([idn, result], axis=1)"
   ]
  },
  {
   "cell_type": "code",
   "execution_count": 587,
   "metadata": {},
   "outputs": [
    {
     "data": {
      "text/html": [
       "<div>\n",
       "<style scoped>\n",
       "    .dataframe tbody tr th:only-of-type {\n",
       "        vertical-align: middle;\n",
       "    }\n",
       "\n",
       "    .dataframe tbody tr th {\n",
       "        vertical-align: top;\n",
       "    }\n",
       "\n",
       "    .dataframe thead th {\n",
       "        text-align: right;\n",
       "    }\n",
       "</style>\n",
       "<table border=\"1\" class=\"dataframe\">\n",
       "  <thead>\n",
       "    <tr style=\"text-align: right;\">\n",
       "      <th></th>\n",
       "      <th>UID</th>\n",
       "      <th>score</th>\n",
       "    </tr>\n",
       "  </thead>\n",
       "  <tbody>\n",
       "    <tr>\n",
       "      <th>0</th>\n",
       "      <td>Te-1</td>\n",
       "      <td>7.569769</td>\n",
       "    </tr>\n",
       "    <tr>\n",
       "      <th>1</th>\n",
       "      <td>Te-2</td>\n",
       "      <td>7.595632</td>\n",
       "    </tr>\n",
       "    <tr>\n",
       "      <th>2</th>\n",
       "      <td>Te-3</td>\n",
       "      <td>7.703507</td>\n",
       "    </tr>\n",
       "    <tr>\n",
       "      <th>3</th>\n",
       "      <td>Te-4</td>\n",
       "      <td>7.701295</td>\n",
       "    </tr>\n",
       "    <tr>\n",
       "      <th>4</th>\n",
       "      <td>Te-5</td>\n",
       "      <td>7.634426</td>\n",
       "    </tr>\n",
       "  </tbody>\n",
       "</table>\n",
       "</div>"
      ],
      "text/plain": [
       "    UID     score\n",
       "0  Te-1  7.569769\n",
       "1  Te-2  7.595632\n",
       "2  Te-3  7.703507\n",
       "3  Te-4  7.701295\n",
       "4  Te-5  7.634426"
      ]
     },
     "execution_count": 587,
     "metadata": {},
     "output_type": "execute_result"
    }
   ],
   "source": [
    "sub.head()"
   ]
  },
  {
   "cell_type": "code",
   "execution_count": 588,
   "metadata": {},
   "outputs": [],
   "source": [
    "sub.to_csv(r\"C:\\Users\\Admin\\Desktop\\Brainwaves\\submission_acc.csv\",index=False)"
   ]
  },
  {
   "cell_type": "code",
   "execution_count": null,
   "metadata": {},
   "outputs": [],
   "source": []
  },
  {
   "cell_type": "code",
   "execution_count": null,
   "metadata": {},
   "outputs": [],
   "source": []
  }
 ],
 "metadata": {
  "kernelspec": {
   "display_name": "Python 3",
   "language": "python",
   "name": "python3"
  },
  "language_info": {
   "codemirror_mode": {
    "name": "ipython",
    "version": 3
   },
   "file_extension": ".py",
   "mimetype": "text/x-python",
   "name": "python",
   "nbconvert_exporter": "python",
   "pygments_lexer": "ipython3",
   "version": "3.7.1"
  }
 },
 "nbformat": 4,
 "nbformat_minor": 2
}
